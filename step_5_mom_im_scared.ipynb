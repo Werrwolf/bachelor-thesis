{
 "cells": [
  {
   "cell_type": "code",
   "execution_count": 25,
   "metadata": {},
   "outputs": [],
   "source": [
    "import pandas as pd\n",
    "import numpy as np\n",
    "import random\n",
    "import csv\n",
    "import os\n",
    "\n",
    "from os import listdir\n",
    "from datasets import load_dataset\n",
    "from transformers import RobertaTokenizer\n",
    "\n",
    "LIST_OF_DATASETS = listdir(\"/home/q524745/bachelor_thesis/datasets\")\n",
    "TRAIN_PERCENTAGE = 0.8\n",
    "TEST_PERCENTAGE = 0.2\n",
    "\n",
    "random.shuffle(LIST_OF_DATASETS)\n",
    "\n",
    "SPLIT_CUTOFF = int(len(LIST_OF_DATASETS) * TRAIN_PERCENTAGE)\n",
    "\n",
    "train_dataset_names  = LIST_OF_DATASETS[:SPLIT_CUTOFF]\n",
    "test_dataset_names = LIST_OF_DATASETS[SPLIT_CUTOFF:]\n",
    "\n",
    "# print(len(LIST_OF_DATASETS))\n",
    "# print(len(train_dataset_names))\n",
    "# print(len(test_dataset_names))"
   ]
  },
  {
   "cell_type": "code",
   "execution_count": 24,
   "metadata": {},
   "outputs": [
    {
     "name": "stdout",
     "output_type": "stream",
     "text": [
      "2779\n",
      "0a4735b179c76d5c8c143209d38a57ce7c548aa4769e712b5757937d6e8be466__job-output_cropped.csv\n"
     ]
    },
    {
     "data": {
      "text/html": [
       "<div>\n",
       "<style scoped>\n",
       "    .dataframe tbody tr th:only-of-type {\n",
       "        vertical-align: middle;\n",
       "    }\n",
       "\n",
       "    .dataframe tbody tr th {\n",
       "        vertical-align: top;\n",
       "    }\n",
       "\n",
       "    .dataframe thead th {\n",
       "        text-align: right;\n",
       "    }\n",
       "</style>\n",
       "<table border=\"1\" class=\"dataframe\">\n",
       "  <thead>\n",
       "    <tr style=\"text-align: right;\">\n",
       "      <th></th>\n",
       "      <th>task_id</th>\n",
       "      <th>log_line</th>\n",
       "      <th>main_category</th>\n",
       "      <th>sub_category</th>\n",
       "    </tr>\n",
       "  </thead>\n",
       "  <tbody>\n",
       "    <tr>\n",
       "      <th>0</th>\n",
       "      <td>ba4c9953-7d74-d567-31a0-00000000079c</td>\n",
       "      <td>INFO: Invocation ID: 0422cbd5-9ffb-48bd-a40d-2...</td>\n",
       "      <td>Bazel</td>\n",
       "      <td>error executing command</td>\n",
       "    </tr>\n",
       "    <tr>\n",
       "      <th>1</th>\n",
       "      <td>ba4c9953-7d74-d567-31a0-00000000079c</td>\n",
       "      <td>INFO: Invocation ID: 0422cbd5-9ffb-48bd-a40d-2...</td>\n",
       "      <td>Bazel</td>\n",
       "      <td>error executing command</td>\n",
       "    </tr>\n",
       "  </tbody>\n",
       "</table>\n",
       "</div>"
      ],
      "text/plain": [
       "                                task_id  \\\n",
       "0  ba4c9953-7d74-d567-31a0-00000000079c   \n",
       "1  ba4c9953-7d74-d567-31a0-00000000079c   \n",
       "\n",
       "                                            log_line main_category  \\\n",
       "0  INFO: Invocation ID: 0422cbd5-9ffb-48bd-a40d-2...         Bazel   \n",
       "1  INFO: Invocation ID: 0422cbd5-9ffb-48bd-a40d-2...         Bazel   \n",
       "\n",
       "              sub_category  \n",
       "0  error executing command  \n",
       "1  error executing command  "
      ]
     },
     "execution_count": 24,
     "metadata": {},
     "output_type": "execute_result"
    }
   ],
   "source": [
    "random_index =random.randint(0, len(train_dataset_names))\n",
    "random_log_from_train = train_dataset_names[random_index]\n",
    "\n",
    "print(random_index)\n",
    "print(random_log_from_train)\n",
    "\n",
    "file_path = os.path.join(\"datasets\", random_log_from_train)\n",
    "\n",
    "with open(file_path, newline=\"\") as csvfile:\n",
    "    random_log_from_train = csv.reader(csvfile)\n",
    "    for row in random_log_from_train:\n",
    "        #print(', '.join(row))\n",
    "        continue\n",
    "    data = pd.read_csv(file_path)\n",
    "\n",
    "data"
   ]
  },
  {
   "cell_type": "code",
   "execution_count": null,
   "metadata": {},
   "outputs": [],
   "source": [
    "tokenizer = RobertaTokenizer.from_pretrained(\"roberta-base\")\n",
    "\n",
    "def streaming_load_data_files (dataset_names, dir_path):\n",
    "    for file_name in dataset_names:\n",
    "        filepath = os.path.join(dir_path, file_name)\n",
    "        dataset = load_dataset(\"csv\", data_files=filepath, split=\"train\", streaming=True)\n",
    "        yield dataset\n",
    "\n",
    "def tokenize_something(example):\n",
    "    return tokenizer(example[\"log_line\"], truncation=True, padding=True)\n",
    "\n",
    "\n",
    "# Usage:\n",
    "train_datasets = streaming_load_data_files(train_dataset_names, DIR)       \n",
    "\n",
    "for dataset in train_datasets:\n",
    "    raw_example = next(iter(dataset))\n",
    "    print(f\"First example from train_datasets (raw): {raw_example}\")\n",
    "\n",
    "    tokenized_example = tokenize_something(raw_example)\n",
    "    print(f\"First example from train_datasets (tokenized): {tokenized_example}\")\n",
    "\n",
    "    break"
   ]
  },
  {
   "cell_type": "code",
   "execution_count": 1,
   "metadata": {},
   "outputs": [],
   "source": [
    "import os\n",
    "from datasets import load_dataset\n",
    "\n",
    "DIR = \"/home/q524745/bachelor_thesis/datasets\"\n",
    "dataset_files = os.listdir(DIR)  # List all dataset files\n",
    "\n",
    "unique_classes = set()  # Set to store unique classes\n",
    "\n",
    "# Iterate over each dataset file\n",
    "for file_name in dataset_files:\n",
    "    filepath = os.path.join(DIR, file_name)\n",
    "    \n",
    "    # Load the dataset in streaming mode\n",
    "    dataset = load_dataset(\"csv\", data_files=filepath, split=\"train\", streaming=True)\n",
    "    \n",
    "    # Iterate over each row in the dataset\n",
    "    for row in dataset:\n",
    "        # Add the 'main_category' field to the set of unique classes\n",
    "        if 'main_category' in row:\n",
    "            unique_classes.add(row['main_category'])\n",
    "        else:\n",
    "            print(f\"'main_category' not found in {file_name}\")\n",
    "\n",
    "# After processing all files, print the unique classes\n",
    "print(f\"Number of unique classes: {len(unique_classes)}\")\n",
    "print(f\"Unique classes: {unique_classes}\")\n"
   ]
  }
 ],
 "metadata": {
  "kernelspec": {
   "display_name": "Python 3",
   "language": "python",
   "name": "python3"
  },
  "language_info": {
   "codemirror_mode": {
    "name": "ipython",
    "version": 3
   },
   "file_extension": ".py",
   "mimetype": "text/x-python",
   "name": "python",
   "nbconvert_exporter": "python",
   "pygments_lexer": "ipython3",
   "version": "3.9.18"
  }
 },
 "nbformat": 4,
 "nbformat_minor": 2
}
